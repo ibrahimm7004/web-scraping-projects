{
 "cells": [
  {
   "cell_type": "code",
   "execution_count": null,
   "metadata": {},
   "outputs": [],
   "source": [
    "url = (\"https://www.mouser.com/ProductDetail/Molex/95503-6451?qs=LJA05O%252BZyellGiWfApvneA%3D%3D\")\n",
    "filename = r\"new.html\""
   ]
  },
  {
   "cell_type": "code",
   "execution_count": 1,
   "metadata": {},
   "outputs": [
    {
     "name": "stdout",
     "output_type": "stream",
     "text": [
      "Failed to retrieve the page. Status code: 500\n"
     ]
    }
   ],
   "source": [
    "import requests\n",
    "import json\n",
    "\n",
    "def load_cookies_and_scrape(url):\n",
    "    # Load cookies from the JSON file\n",
    "    with open('cookies.json', 'r') as file:\n",
    "        cookies = json.load(file)\n",
    "\n",
    "    # Create a session to persist cookies\n",
    "    session = requests.Session()\n",
    "\n",
    "    # Add cookies to the session with sanitized attributes\n",
    "    for cookie in cookies:\n",
    "        # Remove 'expiry' attribute if it exists\n",
    "        if 'expiry' in cookie:\n",
    "            del cookie['expiry']\n",
    "        \n",
    "        # Remove 'sameSite' attribute if its value is not valid\n",
    "        if 'sameSite' in cookie and cookie['sameSite'] not in [\"Strict\", \"Lax\", \"None\"]:\n",
    "            del cookie['sameSite']\n",
    "\n",
    "        # Add the sanitized cookie to the session\n",
    "        session.cookies.set(cookie['name'], cookie['value'], domain=cookie.get('domain'))\n",
    "\n",
    "    # Send a GET request to the target page\n",
    "    response = session.get(url)\n",
    "\n",
    "    if response.status_code == 200:\n",
    "        print(\"Successfully retrieved the HTML content!\")\n",
    "        # Do something with the HTML (response.text)\n",
    "        html_content = response.text\n",
    "        return html_content\n",
    "    else:\n",
    "        print(f\"Failed to retrieve the page. Status code: {response.status_code}\")\n",
    "        return None\n",
    "\n",
    "# Example usage\n",
    "url = \"https://www.example.com/target-page\"  # Replace with the actual target URL\n",
    "html_content = load_cookies_and_scrape(url)\n",
    "\n",
    "if html_content:\n",
    "    print(html_content)  # You can save this HTML or further process it\n"
   ]
  },
  {
   "cell_type": "code",
   "execution_count": null,
   "metadata": {},
   "outputs": [],
   "source": []
  }
 ],
 "metadata": {
  "kernelspec": {
   "display_name": "Python 3",
   "language": "python",
   "name": "python3"
  },
  "language_info": {
   "codemirror_mode": {
    "name": "ipython",
    "version": 3
   },
   "file_extension": ".py",
   "mimetype": "text/x-python",
   "name": "python",
   "nbconvert_exporter": "python",
   "pygments_lexer": "ipython3",
   "version": "3.11.0"
  }
 },
 "nbformat": 4,
 "nbformat_minor": 2
}
