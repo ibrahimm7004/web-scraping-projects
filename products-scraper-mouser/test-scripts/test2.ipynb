{
 "cells": [
  {
   "cell_type": "code",
   "execution_count": 1,
   "metadata": {},
   "outputs": [],
   "source": [
    "import json\n",
    "import time\n",
    "from selenium import webdriver\n",
    "from selenium.webdriver.chrome.service import Service\n",
    "from selenium.webdriver.chrome.options import Options\n",
    "import os\n",
    "from selenium.webdriver.common.by import By\n",
    "import pandas as pd\n",
    "from selenium.webdriver.support.ui import WebDriverWait\n",
    "from selenium.webdriver.support import expected_conditions as EC"
   ]
  },
  {
   "cell_type": "code",
   "execution_count": 3,
   "metadata": {},
   "outputs": [],
   "source": [
    "df = pd.read_csv(\"Mouser_source_20240910.tsv\", sep='\\t', header=None)\n",
    "df.columns = ['Part Number']"
   ]
  },
  {
   "cell_type": "code",
   "execution_count": 4,
   "metadata": {},
   "outputs": [
    {
     "data": {
      "text/html": [
       "<div>\n",
       "<style scoped>\n",
       "    .dataframe tbody tr th:only-of-type {\n",
       "        vertical-align: middle;\n",
       "    }\n",
       "\n",
       "    .dataframe tbody tr th {\n",
       "        vertical-align: top;\n",
       "    }\n",
       "\n",
       "    .dataframe thead th {\n",
       "        text-align: right;\n",
       "    }\n",
       "</style>\n",
       "<table border=\"1\" class=\"dataframe\">\n",
       "  <thead>\n",
       "    <tr style=\"text-align: right;\">\n",
       "      <th></th>\n",
       "      <th>Part Number</th>\n",
       "    </tr>\n",
       "  </thead>\n",
       "  <tbody>\n",
       "    <tr>\n",
       "      <th>0</th>\n",
       "      <td>PartNumber</td>\n",
       "    </tr>\n",
       "    <tr>\n",
       "      <th>1</th>\n",
       "      <td>0 048 71</td>\n",
       "    </tr>\n",
       "    <tr>\n",
       "      <th>2</th>\n",
       "      <td>0 371 04</td>\n",
       "    </tr>\n",
       "    <tr>\n",
       "      <th>3</th>\n",
       "      <td>0 371 05</td>\n",
       "    </tr>\n",
       "    <tr>\n",
       "      <th>4</th>\n",
       "      <td>0 371 09</td>\n",
       "    </tr>\n",
       "  </tbody>\n",
       "</table>\n",
       "</div>"
      ],
      "text/plain": [
       "  Part Number\n",
       "0  PartNumber\n",
       "1    0 048 71\n",
       "2    0 371 04\n",
       "3    0 371 05\n",
       "4    0 371 09"
      ]
     },
     "execution_count": 4,
     "metadata": {},
     "output_type": "execute_result"
    }
   ],
   "source": [
    "df.head()"
   ]
  },
  {
   "cell_type": "code",
   "execution_count": 5,
   "metadata": {},
   "outputs": [
    {
     "data": {
      "text/plain": [
       "(402850, 1)"
      ]
     },
     "execution_count": 5,
     "metadata": {},
     "output_type": "execute_result"
    }
   ],
   "source": [
    "df.shape"
   ]
  },
  {
   "cell_type": "code",
   "execution_count": 5,
   "metadata": {},
   "outputs": [],
   "source": [
    "url = \"https://www.mouser.com/\"\n",
    "driver_path = r'chromedriver.exe'\n",
    "chrome_options = Options()\n",
    "count = 0"
   ]
  },
  {
   "cell_type": "code",
   "execution_count": 14,
   "metadata": {},
   "outputs": [
    {
     "name": "stdout",
     "output_type": "stream",
     "text": [
      "164 parts done.\n"
     ]
    },
    {
     "ename": "KeyboardInterrupt",
     "evalue": "",
     "output_type": "error",
     "traceback": [
      "\u001b[1;31m---------------------------------------------------------------------------\u001b[0m",
      "\u001b[1;31mKeyboardInterrupt\u001b[0m                         Traceback (most recent call last)",
      "Cell \u001b[1;32mIn[14], line 39\u001b[0m\n\u001b[0;32m     36\u001b[0m search_button \u001b[38;5;241m=\u001b[39m driver\u001b[38;5;241m.\u001b[39mfind_element(\u001b[38;5;124m\"\u001b[39m\u001b[38;5;124mxpath\u001b[39m\u001b[38;5;124m\"\u001b[39m, \u001b[38;5;124m'\u001b[39m\u001b[38;5;124m//button[@data-testid=\u001b[39m\u001b[38;5;124m\"\u001b[39m\u001b[38;5;124mhdrSrch\u001b[39m\u001b[38;5;124m\"\u001b[39m\u001b[38;5;124m]\u001b[39m\u001b[38;5;124m'\u001b[39m)\n\u001b[0;32m     37\u001b[0m search_button\u001b[38;5;241m.\u001b[39mclick()\n\u001b[1;32m---> 39\u001b[0m \u001b[43mtime\u001b[49m\u001b[38;5;241;43m.\u001b[39;49m\u001b[43msleep\u001b[49m\u001b[43m(\u001b[49m\u001b[38;5;241;43m2\u001b[39;49m\u001b[43m)\u001b[49m\n\u001b[0;32m     41\u001b[0m \u001b[38;5;66;03m# Save the first search result page (Home Page) as a compressed HTML file\u001b[39;00m\n\u001b[0;32m     42\u001b[0m home_page_folder \u001b[38;5;241m=\u001b[39m os\u001b[38;5;241m.\u001b[39mpath\u001b[38;5;241m.\u001b[39mjoin(os\u001b[38;5;241m.\u001b[39mgetcwd(), \u001b[38;5;124m\"\u001b[39m\u001b[38;5;124mHomePage\u001b[39m\u001b[38;5;124m\"\u001b[39m)\n",
      "\u001b[1;31mKeyboardInterrupt\u001b[0m: "
     ]
    }
   ],
   "source": [
    "import gzip\n",
    "import json\n",
    "import os\n",
    "from selenium import webdriver\n",
    "from selenium.webdriver.chrome.service import Service\n",
    "from selenium.webdriver.common.by import By\n",
    "import time\n",
    "\n",
    "driver = webdriver.Chrome(service=Service(driver_path), options=chrome_options)\n",
    "driver.get(url)\n",
    "\n",
    "# Load and add cookies from the JSON file\n",
    "with open('cookies.json', 'r') as file:\n",
    "    cookies = json.load(file)\n",
    "\n",
    "for cookie in cookies:\n",
    "    if 'expiry' in cookie:\n",
    "        del cookie['expiry']\n",
    "    if 'sameSite' in cookie and cookie['sameSite'] not in [\"Strict\", \"Lax\", \"None\"]:\n",
    "        del cookie['sameSite']\n",
    "    try:\n",
    "        driver.add_cookie(cookie)\n",
    "    except Exception as e:\n",
    "        print(f\"Error adding cookie: {cookie['name']}, Error: {e}\")\n",
    "\n",
    "for x in df['Part Number']:\n",
    "    count += 1\n",
    "    driver.get(url)\n",
    "\n",
    "    time.sleep(2)\n",
    "\n",
    "    # Interact with the search bar and button\n",
    "    search_bar = driver.find_element(\"xpath\", '//input[@data-testid=\"global-search\"]')\n",
    "    search_bar.send_keys(x)\n",
    "\n",
    "    search_button = driver.find_element(\"xpath\", '//button[@data-testid=\"hdrSrch\"]')\n",
    "    search_button.click()\n",
    "\n",
    "    time.sleep(2)\n",
    "\n",
    "    # Save the first search result page (Home Page) as a compressed HTML file\n",
    "    home_page_folder = os.path.join(os.getcwd(), \"HomePage\")\n",
    "\n",
    "    if not os.path.exists(home_page_folder):\n",
    "        os.makedirs(home_page_folder)\n",
    "\n",
    "    # Define a path for the compressed HTML file with the part number as the name\n",
    "    home_html_file_path = os.path.join(home_page_folder, f\"{x}.html.gz\")\n",
    "\n",
    "    # Save the current page as a compressed HTML file\n",
    "    with gzip.open(home_html_file_path, 'wt', encoding='utf-8') as file:\n",
    "        file.write(driver.page_source)\n",
    "\n",
    "    # Now check for the product number in search results and navigate if found\n",
    "    try:\n",
    "        element = driver.find_element(By.ID, \"searchResultsTbl\")\n",
    "        part_number_elements = driver.find_elements(By.XPATH, '//div[@class=\"mfr-part-num hidden-xs\"]//a')\n",
    "\n",
    "        for part_element in part_number_elements:\n",
    "            part_text = part_element.text.strip()\n",
    "\n",
    "            if part_text == x:\n",
    "                part_url = part_element.get_attribute(\"href\")\n",
    "                driver.get(part_url)\n",
    "\n",
    "                time.sleep(2)\n",
    "\n",
    "                # Save the detailed product page (Detail Page) as a compressed HTML file\n",
    "                detail_page_folder = os.path.join(os.getcwd(), \"DetailPage\")\n",
    "\n",
    "                if not os.path.exists(detail_page_folder):\n",
    "                    os.makedirs(detail_page_folder)\n",
    "\n",
    "                # Define a path for the compressed HTML file with the part number as the name\n",
    "                detail_html_file_path = os.path.join(detail_page_folder, f\"{x}.html.gz\")\n",
    "\n",
    "                # Save the detailed page as a compressed HTML file\n",
    "                with gzip.open(detail_html_file_path, 'wt', encoding='utf-8') as file:\n",
    "                    file.write(driver.page_source)\n",
    "\n",
    "                break\n",
    "\n",
    "    except:\n",
    "        pass\n",
    "\n",
    "    print(f'{count} parts done.')\n",
    "\n",
    "driver.quit()\n"
   ]
  },
  {
   "cell_type": "code",
   "execution_count": null,
   "metadata": {},
   "outputs": [],
   "source": []
  }
 ],
 "metadata": {
  "kernelspec": {
   "display_name": "Python 3",
   "language": "python",
   "name": "python3"
  },
  "language_info": {
   "codemirror_mode": {
    "name": "ipython",
    "version": 3
   },
   "file_extension": ".py",
   "mimetype": "text/x-python",
   "name": "python",
   "nbconvert_exporter": "python",
   "pygments_lexer": "ipython3",
   "version": "3.11.0"
  }
 },
 "nbformat": 4,
 "nbformat_minor": 2
}
