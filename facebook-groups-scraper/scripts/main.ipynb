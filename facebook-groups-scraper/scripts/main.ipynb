{
 "cells": [
  {
   "cell_type": "code",
   "execution_count": 37,
   "metadata": {},
   "outputs": [],
   "source": [
    "from selenium import webdriver\n",
    "from selenium.webdriver.chrome.service import Service\n",
    "from selenium.webdriver.common.by import By\n",
    "from selenium.webdriver.support.ui import WebDriverWait\n",
    "import time\n",
    "from selenium.webdriver.support import expected_conditions as EC\n",
    "from bs4 import BeautifulSoup\n",
    "import os\n",
    "import pandas as pd"
   ]
  },
  {
   "cell_type": "code",
   "execution_count": 38,
   "metadata": {},
   "outputs": [],
   "source": [
    "FB_EMAIL = 'ibrahim.mahmood7@hotmail.com'\n",
    "FB_PASSWORD = 'sh3637Gdhj'"
   ]
  },
  {
   "cell_type": "code",
   "execution_count": null,
   "metadata": {},
   "outputs": [],
   "source": [
    "def optimized_scroll_and_collect_urls(driver, max_wait_time=5):\n",
    "    scroll_pause_time = 0.5  # Time to wait after each scroll (in seconds)\n",
    "    last_height = driver.execute_script(\"return document.body.scrollHeight\")\n",
    "    start_time = time.time()\n",
    "    \n",
    "    while True:\n",
    "        driver.execute_script(\"window.scrollTo(0, document.body.scrollHeight);\")\n",
    "        time.sleep(scroll_pause_time)\n",
    "        \n",
    "        # Calculate new scroll height and compare with last scroll height\n",
    "        new_height = driver.execute_script(\"return document.body.scrollHeight\")\n",
    "        \n",
    "        # If the height hasn't changed, we've reached the bottom\n",
    "        if new_height == last_height:\n",
    "            # Break the loop if we are done scrolling, but make sure enough time has passed to load the final content\n",
    "            if time.time() - start_time > max_wait_time:\n",
    "                break\n",
    "        else:\n",
    "            # Reset the start time if new content is loaded\n",
    "            start_time = time.time()\n",
    "        \n",
    "        last_height = new_height\n",
    "    \n",
    "    # Once fully scrolled, get the page HTML\n",
    "    page_html = driver.page_source\n",
    "    print(\"Fully loaded page HTML has been retrieved.\")\n",
    "    urls = extract_urls_from_html(page_html)\n",
    "    \n",
    "    return urls\n",
    "\n",
    "def extract_urls_from_html(members_html):\n",
    "    soup = BeautifulSoup(members_html, 'html.parser')\n",
    "    links = soup.find_all('a', href=True)\n",
    "    urls = [link['href'] for link in links]\n",
    "\n",
    "    return urls\n",
    "\n",
    "def visit_public_group_and_get_all_member_urls(link):\n",
    "    service = Service('chromedriver.exe')\n",
    "    driver = webdriver.Chrome(service=service)\n",
    "    \n",
    "    try:\n",
    "        login_to_facebook_and_redirect(driver, link)\n",
    "\n",
    "        # Add a delay to ensure the group page loads completely\n",
    "        time.sleep(3)\n",
    "\n",
    "        click_members_link(driver)\n",
    "\n",
    "        member_urls = optimized_scroll_and_collect_urls(driver)\n",
    "        \n",
    "        return member_urls\n",
    "\n",
    "    finally:\n",
    "        driver.quit()\n",
    "\n",
    "def login_to_facebook_and_redirect(driver, group_url):\n",
    "    driver.get('https://www.facebook.com/login')\n",
    "    driver.find_element(By.ID, \"email\").send_keys(FB_EMAIL)\n",
    "    driver.find_element(By.ID, \"pass\").send_keys(FB_PASSWORD)\n",
    "    driver.find_element(By.NAME, \"login\").click()\n",
    "\n",
    "    time.sleep(5)\n",
    "    driver.get(group_url)\n",
    "    print(\"Redirected to the Facebook group.\")\n",
    "\n",
    "def click_members_link(driver):\n",
    "    try:\n",
    "        # Wait for the members link to appear and be clickable\n",
    "        members_link = WebDriverWait(driver, 4).until(\n",
    "            EC.element_to_be_clickable((By.CSS_SELECTOR, \"a[href$='/members/']\"))\n",
    "        )\n",
    "\n",
    "        driver.execute_script(\"arguments[0].scrollIntoView(true);\", members_link)\n",
    "        time.sleep(1)  # Give some time for scrolling\n",
    "        driver.execute_script(\"arguments[0].click();\", members_link)\n",
    "        print(\"Clicked on the 'members' link.\")\n",
    "\n",
    "    except Exception as e:\n",
    "        print(f\"An error occurred: {e}\")"
   ]
  },
  {
   "cell_type": "code",
   "execution_count": null,
   "metadata": {},
   "outputs": [],
   "source": [
    "file_path = r'fb_groups_data.xlsx'\n",
    "df1 = pd.read_excel(file_path, skiprows=1, header=0)"
   ]
  },
  {
   "cell_type": "code",
   "execution_count": 45,
   "metadata": {},
   "outputs": [
    {
     "data": {
      "text/html": [
       "<div>\n",
       "<style scoped>\n",
       "    .dataframe tbody tr th:only-of-type {\n",
       "        vertical-align: middle;\n",
       "    }\n",
       "\n",
       "    .dataframe tbody tr th {\n",
       "        vertical-align: top;\n",
       "    }\n",
       "\n",
       "    .dataframe thead th {\n",
       "        text-align: right;\n",
       "    }\n",
       "</style>\n",
       "<table border=\"1\" class=\"dataframe\">\n",
       "  <thead>\n",
       "    <tr style=\"text-align: right;\">\n",
       "      <th></th>\n",
       "      <th>SNO</th>\n",
       "      <th>PAGES</th>\n",
       "      <th>FACEBOOK ID</th>\n",
       "      <th>NO OF MEMBERS</th>\n",
       "      <th>REMARKS</th>\n",
       "    </tr>\n",
       "  </thead>\n",
       "  <tbody>\n",
       "    <tr>\n",
       "      <th>0</th>\n",
       "      <td>1</td>\n",
       "      <td>Cyber Security Group - Pakistan</td>\n",
       "      <td>https://www.facebook.com/groups/596000380410413/</td>\n",
       "      <td>Public Â· 9K members Â· 5 posts a month</td>\n",
       "      <td>NaN</td>\n",
       "    </tr>\n",
       "    <tr>\n",
       "      <th>1</th>\n",
       "      <td>2</td>\n",
       "      <td>Pakistani moms in Canada ðŸ‡¨ðŸ‡¦</td>\n",
       "      <td>https://www.facebook.com/groups/1915352918584025/</td>\n",
       "      <td>Public Â· 9K members Â· 10+ posts a day</td>\n",
       "      <td>NaN</td>\n",
       "    </tr>\n",
       "    <tr>\n",
       "      <th>2</th>\n",
       "      <td>3</td>\n",
       "      <td>Electrical engineering world</td>\n",
       "      <td>https://www.facebook.com/groups/303168311067353/</td>\n",
       "      <td>Public Â· 96K members Â· 10+ posts a day</td>\n",
       "      <td>NaN</td>\n",
       "    </tr>\n",
       "    <tr>\n",
       "      <th>3</th>\n",
       "      <td>4</td>\n",
       "      <td>Gold Rate Pakistan Daily Update</td>\n",
       "      <td>https://www.facebook.com/groups/1236463527108778/</td>\n",
       "      <td>Public Â· 94K members Â· 3 posts a day</td>\n",
       "      <td>NaN</td>\n",
       "    </tr>\n",
       "    <tr>\n",
       "      <th>4</th>\n",
       "      <td>5</td>\n",
       "      <td>The Bankers Forum - (Pakistan)</td>\n",
       "      <td>https://www.facebook.com/groups/TheBankersForum/</td>\n",
       "      <td>Public Â· 93K members Â· 6 posts a day</td>\n",
       "      <td>NaN</td>\n",
       "    </tr>\n",
       "  </tbody>\n",
       "</table>\n",
       "</div>"
      ],
      "text/plain": [
       "   SNO                              PAGES  \\\n",
       "0    1    Cyber Security Group - Pakistan   \n",
       "1    2  Pakistani moms in Canada ðŸ‡¨ðŸ‡¦   \n",
       "2    3       Electrical engineering world   \n",
       "3    4    Gold Rate Pakistan Daily Update   \n",
       "4    5     The Bankers Forum - (Pakistan)   \n",
       "\n",
       "                                         FACEBOOK ID  \\\n",
       "0   https://www.facebook.com/groups/596000380410413/   \n",
       "1  https://www.facebook.com/groups/1915352918584025/   \n",
       "2   https://www.facebook.com/groups/303168311067353/   \n",
       "3  https://www.facebook.com/groups/1236463527108778/   \n",
       "4   https://www.facebook.com/groups/TheBankersForum/   \n",
       "\n",
       "                              NO OF MEMBERS  REMARKS  \n",
       "0   Public Â· 9K members Â· 5 posts a month      NaN  \n",
       "1   Public Â· 9K members Â· 10+ posts a day      NaN  \n",
       "2  Public Â· 96K members Â· 10+ posts a day      NaN  \n",
       "3    Public Â· 94K members Â· 3 posts a day      NaN  \n",
       "4    Public Â· 93K members Â· 6 posts a day      NaN  "
      ]
     },
     "execution_count": 45,
     "metadata": {},
     "output_type": "execute_result"
    }
   ],
   "source": [
    "df1.head()"
   ]
  },
  {
   "cell_type": "code",
   "execution_count": 46,
   "metadata": {},
   "outputs": [],
   "source": [
    "group_url = df1['FACEBOOK ID'].iloc[52]"
   ]
  },
  {
   "cell_type": "code",
   "execution_count": 47,
   "metadata": {},
   "outputs": [
    {
     "data": {
      "text/plain": [
       "'https://www.facebook.com/groups/807147959841449/'"
      ]
     },
     "execution_count": 47,
     "metadata": {},
     "output_type": "execute_result"
    }
   ],
   "source": [
    "group_url"
   ]
  },
  {
   "cell_type": "code",
   "execution_count": 48,
   "metadata": {},
   "outputs": [
    {
     "name": "stdout",
     "output_type": "stream",
     "text": [
      "Redirected to the Facebook group.\n",
      "Clicked on the 'members' link.\n",
      "Fully loaded page HTML has been retrieved.\n"
     ]
    }
   ],
   "source": [
    "all_member_urls = visit_public_group_and_get_all_member_urls(group_url)"
   ]
  },
  {
   "cell_type": "code",
   "execution_count": 27,
   "metadata": {},
   "outputs": [
    {
     "data": {
      "text/plain": [
       "['/',\n",
       " '/',\n",
       " '/friends/',\n",
       " '/marketplace/?ref=app_tab',\n",
       " '/gaming/play/?store_visit_source=gaming_tab',\n",
       " '/notifications/',\n",
       " 'https://www.facebook.com/photo/?fbid=275793300634453&set=p.275793300634453',\n",
       " 'https://www.facebook.com/groups/807147959841449/',\n",
       " '/groups/807147959841449/members/',\n",
       " '/groups/807147959841449/about/',\n",
       " 'https://www.facebook.com/groups/807147959841449/',\n",
       " '/groups/807147959841449/members/',\n",
       " '/groups/807147959841449/events/',\n",
       " '/groups/807147959841449/media/',\n",
       " '/groups/807147959841449/files/files/',\n",
       " 'https://www.facebook.com/groups/807147959841449/',\n",
       " 'https://www.facebook.com/help/727473118066542',\n",
       " '/groups/807147959841449/user/100046113546388/',\n",
       " '/groups/807147959841449/user/100046113546388/',\n",
       " '/groups/807147959841449/user/100055754507999/',\n",
       " '/groups/807147959841449/user/100055754507999/',\n",
       " '/groups/807147959841449/user/100054619163582/',\n",
       " '/groups/807147959841449/user/100054619163582/',\n",
       " '/groups/807147959841449/members/things_in_common/',\n",
       " '/groups/807147959841449/user/100055754507999/',\n",
       " '/groups/807147959841449/user/100055754507999/',\n",
       " '/groups/807147959841449/user/100054619163582/',\n",
       " '/groups/807147959841449/user/100054619163582/',\n",
       " '/groups/807147959841449/user/100014492740176/',\n",
       " '/groups/807147959841449/user/100014492740176/',\n",
       " '/groups/807147959841449/members/near_you/',\n",
       " '/groups/807147959841449/user/100054619163582/',\n",
       " '/groups/807147959841449/user/100054619163582/',\n",
       " '/groups/807147959841449/user/100083674766433/',\n",
       " '/groups/807147959841449/user/100083674766433/',\n",
       " '/groups/807147959841449/user/100042912082452/',\n",
       " '/groups/807147959841449/user/100042912082452/',\n",
       " '/groups/807147959841449/user/100027678798896/',\n",
       " '/groups/807147959841449/user/100027678798896/',\n",
       " '/groups/807147959841449/user/100014492740176/',\n",
       " '/groups/807147959841449/user/100014492740176/',\n",
       " '/groups/807147959841449/user/100039640593856/',\n",
       " '/groups/807147959841449/user/100039640593856/',\n",
       " '/groups/807147959841449/user/100041709264188/',\n",
       " '/groups/807147959841449/user/100041709264188/',\n",
       " '/groups/807147959841449/user/100073999263344/',\n",
       " '/groups/807147959841449/user/100073999263344/',\n",
       " '/groups/807147959841449/user/100007438836708/',\n",
       " '/groups/807147959841449/user/100007438836708/',\n",
       " '/groups/807147959841449/user/100082791457623/',\n",
       " '/groups/807147959841449/user/100082791457623/']"
      ]
     },
     "execution_count": 27,
     "metadata": {},
     "output_type": "execute_result"
    }
   ],
   "source": [
    "all_member_urls"
   ]
  },
  {
   "cell_type": "code",
   "execution_count": 29,
   "metadata": {},
   "outputs": [
    {
     "data": {
      "text/plain": [
       "['/groups/807147959841449/user/100046113546388/',\n",
       " '/groups/807147959841449/user/100046113546388/',\n",
       " '/groups/807147959841449/user/100055754507999/',\n",
       " '/groups/807147959841449/user/100055754507999/',\n",
       " '/groups/807147959841449/user/100054619163582/',\n",
       " '/groups/807147959841449/user/100054619163582/',\n",
       " '/groups/807147959841449/user/100055754507999/',\n",
       " '/groups/807147959841449/user/100055754507999/',\n",
       " '/groups/807147959841449/user/100054619163582/',\n",
       " '/groups/807147959841449/user/100054619163582/',\n",
       " '/groups/807147959841449/user/100014492740176/',\n",
       " '/groups/807147959841449/user/100014492740176/',\n",
       " '/groups/807147959841449/user/100054619163582/',\n",
       " '/groups/807147959841449/user/100054619163582/',\n",
       " '/groups/807147959841449/user/100083674766433/',\n",
       " '/groups/807147959841449/user/100083674766433/',\n",
       " '/groups/807147959841449/user/100042912082452/',\n",
       " '/groups/807147959841449/user/100042912082452/',\n",
       " '/groups/807147959841449/user/100027678798896/',\n",
       " '/groups/807147959841449/user/100027678798896/',\n",
       " '/groups/807147959841449/user/100014492740176/',\n",
       " '/groups/807147959841449/user/100014492740176/',\n",
       " '/groups/807147959841449/user/100039640593856/',\n",
       " '/groups/807147959841449/user/100039640593856/',\n",
       " '/groups/807147959841449/user/100041709264188/',\n",
       " '/groups/807147959841449/user/100041709264188/',\n",
       " '/groups/807147959841449/user/100073999263344/',\n",
       " '/groups/807147959841449/user/100073999263344/',\n",
       " '/groups/807147959841449/user/100007438836708/',\n",
       " '/groups/807147959841449/user/100007438836708/',\n",
       " '/groups/807147959841449/user/100082791457623/',\n",
       " '/groups/807147959841449/user/100082791457623/']"
      ]
     },
     "execution_count": 29,
     "metadata": {},
     "output_type": "execute_result"
    }
   ],
   "source": [
    "x = extract_member_urls(all_member_urls)\n",
    "x"
   ]
  },
  {
   "cell_type": "code",
   "execution_count": 33,
   "metadata": {},
   "outputs": [],
   "source": [
    "a = []\n",
    "for i in x:\n",
    "    a.append(convert_to_proper_url(i))"
   ]
  },
  {
   "cell_type": "code",
   "execution_count": 34,
   "metadata": {},
   "outputs": [
    {
     "data": {
      "text/plain": [
       "['https://www.facebook.com/profile.php?id=100046113546388',\n",
       " 'https://www.facebook.com/profile.php?id=100046113546388',\n",
       " 'https://www.facebook.com/profile.php?id=100055754507999',\n",
       " 'https://www.facebook.com/profile.php?id=100055754507999',\n",
       " 'https://www.facebook.com/profile.php?id=100054619163582',\n",
       " 'https://www.facebook.com/profile.php?id=100054619163582',\n",
       " 'https://www.facebook.com/profile.php?id=100055754507999',\n",
       " 'https://www.facebook.com/profile.php?id=100055754507999',\n",
       " 'https://www.facebook.com/profile.php?id=100054619163582',\n",
       " 'https://www.facebook.com/profile.php?id=100054619163582',\n",
       " 'https://www.facebook.com/profile.php?id=100014492740176',\n",
       " 'https://www.facebook.com/profile.php?id=100014492740176',\n",
       " 'https://www.facebook.com/profile.php?id=100054619163582',\n",
       " 'https://www.facebook.com/profile.php?id=100054619163582',\n",
       " 'https://www.facebook.com/profile.php?id=100083674766433',\n",
       " 'https://www.facebook.com/profile.php?id=100083674766433',\n",
       " 'https://www.facebook.com/profile.php?id=100042912082452',\n",
       " 'https://www.facebook.com/profile.php?id=100042912082452',\n",
       " 'https://www.facebook.com/profile.php?id=100027678798896',\n",
       " 'https://www.facebook.com/profile.php?id=100027678798896',\n",
       " 'https://www.facebook.com/profile.php?id=100014492740176',\n",
       " 'https://www.facebook.com/profile.php?id=100014492740176',\n",
       " 'https://www.facebook.com/profile.php?id=100039640593856',\n",
       " 'https://www.facebook.com/profile.php?id=100039640593856',\n",
       " 'https://www.facebook.com/profile.php?id=100041709264188',\n",
       " 'https://www.facebook.com/profile.php?id=100041709264188',\n",
       " 'https://www.facebook.com/profile.php?id=100073999263344',\n",
       " 'https://www.facebook.com/profile.php?id=100073999263344',\n",
       " 'https://www.facebook.com/profile.php?id=100007438836708',\n",
       " 'https://www.facebook.com/profile.php?id=100007438836708',\n",
       " 'https://www.facebook.com/profile.php?id=100082791457623',\n",
       " 'https://www.facebook.com/profile.php?id=100082791457623']"
      ]
     },
     "execution_count": 34,
     "metadata": {},
     "output_type": "execute_result"
    }
   ],
   "source": [
    "a"
   ]
  },
  {
   "cell_type": "markdown",
   "metadata": {},
   "source": [
    "---"
   ]
  },
  {
   "cell_type": "code",
   "execution_count": 28,
   "metadata": {},
   "outputs": [],
   "source": [
    "def extract_member_urls(urls):\n",
    "    # Define the base path that identifies member URLs\n",
    "    member_url_pattern = \"/user/\"\n",
    "    \n",
    "    # Filter the URLs that contain the member URL pattern\n",
    "    member_urls = [url for url in urls if member_url_pattern in url]\n",
    "    \n",
    "    return member_urls"
   ]
  },
  {
   "cell_type": "code",
   "execution_count": 30,
   "metadata": {},
   "outputs": [],
   "source": [
    "def convert_to_proper_url(broken_url):\n",
    "    numeric_id = broken_url.split('/')[-2]  \n",
    "    proper_url = f\"https://www.facebook.com/profile.php?id={numeric_id}\"\n",
    "    \n",
    "    return proper_url"
   ]
  },
  {
   "cell_type": "code",
   "execution_count": 31,
   "metadata": {},
   "outputs": [],
   "source": [
    "def func2(urls):\n",
    "    list1 = []\n",
    "    urls2 = extract_member_urls(urls)\n",
    "    \n",
    "    for url in urls2:\n",
    "        list1.append(convert_to_proper_url(url))\n",
    "    \n",
    "    final_set_of_urls = set(list1)\n",
    "\n",
    "    return list(final_set_of_urls)"
   ]
  },
  {
   "cell_type": "markdown",
   "metadata": {},
   "source": [
    "---"
   ]
  },
  {
   "cell_type": "code",
   "execution_count": null,
   "metadata": {},
   "outputs": [
    {
     "name": "stdout",
     "output_type": "stream",
     "text": [
      "Logged in to Facebook.\n",
      "Clicked on the 'People' link.\n",
      "Collected 51 URLs from the People section.\n"
     ]
    }
   ],
   "source": [
    "def login_to_facebook(driver):\n",
    "    driver.get('https://www.facebook.com/login')\n",
    "    driver.find_element(By.ID, \"email\").send_keys(FB_EMAIL)\n",
    "    driver.find_element(By.ID, \"pass\").send_keys(FB_PASSWORD)\n",
    "    driver.find_element(By.NAME, \"login\").click()\n",
    "    time.sleep(5)  # Wait for login to complete\n",
    "    print(\"Logged in to Facebook.\")\n",
    "\n",
    "def optimized_scroll_and_collect_urls(driver, max_wait_time=10):\n",
    "    scroll_pause_time = 0.5  # Time to wait after each scroll (in seconds)\n",
    "    last_height = driver.execute_script(\"return document.body.scrollHeight\")\n",
    "    start_time = time.time()\n",
    "    \n",
    "    while True:\n",
    "        # Scroll down to the bottom\n",
    "        driver.execute_script(\"window.scrollTo(0, document.body.scrollHeight);\")\n",
    "        time.sleep(scroll_pause_time)\n",
    "        \n",
    "        # Calculate new scroll height and compare with last scroll height\n",
    "        new_height = driver.execute_script(\"return document.body.scrollHeight\")\n",
    "        \n",
    "        # Check if more content is loaded\n",
    "        if new_height == last_height:\n",
    "            # Break the loop if no new content has loaded for a while\n",
    "            if time.time() - start_time > max_wait_time:\n",
    "                break\n",
    "        else:\n",
    "            # Reset the start time if new content is loaded\n",
    "            start_time = time.time()\n",
    "        \n",
    "        last_height = new_height\n",
    "    \n",
    "    # Once fully scrolled, get the page HTML\n",
    "    page_html = driver.page_source\n",
    "    urls = extract_urls_from_html(page_html)\n",
    "    \n",
    "    print(f\"Collected {len(urls)} URLs from the People section.\")\n",
    "    return urls\n",
    "\n",
    "def extract_urls_from_html(members_html):\n",
    "    soup = BeautifulSoup(members_html, 'html.parser')\n",
    "    links = soup.find_all('a', href=True)\n",
    "    urls = [link['href'] for link in links]\n",
    "    return urls\n",
    "def click_members_link(driver):\n",
    "    try:\n",
    "        # Wait for the tab buttons to appear and collect all the potential links\n",
    "        tab_links = WebDriverWait(driver, 10).until(\n",
    "            EC.presence_of_all_elements_located((By.CSS_SELECTOR, \"a[role='tab']\"))\n",
    "        )\n",
    "\n",
    "        for tab_link in tab_links:\n",
    "            # Get the text and href attributes safely\n",
    "            tab_text = tab_link.text.strip() if tab_link.text else \"\"\n",
    "            tab_href = tab_link.get_attribute('href') if tab_link.get_attribute('href') else \"\"\n",
    "\n",
    "            # Convert to lowercase for comparison\n",
    "            tab_text = tab_text.lower()\n",
    "            tab_href = tab_href.lower()\n",
    "            \n",
    "            # Check if the tab matches the \"People\" or \"Members\" link criteria\n",
    "            if 'people' in tab_text or 'members' in tab_text or '/members/' in tab_href or '/people/' in tab_href:\n",
    "                driver.execute_script(\"arguments[0].scrollIntoView(true);\", tab_link)\n",
    "                time.sleep(1)  # Give some time for scrolling\n",
    "                driver.execute_script(\"arguments[0].click();\", tab_link)\n",
    "                print(f\"Clicked on the '{tab_text.capitalize()}' link.\")\n",
    "                return True\n",
    "        \n",
    "        print(\"Members/People section not found.\")\n",
    "        return False\n",
    "\n",
    "    except Exception as e:\n",
    "        print(f\"An error occurred while trying to click the 'People' or 'Members' link: {e}\")\n",
    "        return False\n",
    "\n",
    "\n",
    "\n",
    "def visit_public_group_and_get_all_member_urls(driver, group_url):\n",
    "    try:\n",
    "        driver.get(group_url)\n",
    "        time.sleep(3)  # Ensure the group page is fully loaded\n",
    "\n",
    "        # Click the \"People\" or \"Members\" link\n",
    "        if click_members_link(driver):\n",
    "            # Collect all URLs after fully scrolling the page\n",
    "            member_urls = optimized_scroll_and_collect_urls(driver)\n",
    "            return member_urls\n",
    "        else:\n",
    "            print(\"Failed to navigate to the 'People' section.\")\n",
    "            return []\n",
    "\n",
    "    except Exception as e:\n",
    "        print(f\"Error visiting group: {e}\")\n",
    "        return []\n",
    "\n",
    "def extract_member_urls(urls):\n",
    "    member_url_pattern = \"/user/\"\n",
    "    member_urls = [url for url in urls if member_url_pattern in url]\n",
    "    return member_urls\n",
    "\n",
    "def convert_to_proper_url(broken_url):\n",
    "    numeric_id = broken_url.split('/')[-2]  \n",
    "    proper_url = f\"https://www.facebook.com/profile.php?id={numeric_id}\"\n",
    "    return proper_url\n",
    "\n",
    "def process_member_urls(urls):\n",
    "    list1 = []\n",
    "    urls2 = extract_member_urls(urls)\n",
    "    \n",
    "    for url in urls2:\n",
    "        list1.append(convert_to_proper_url(url))\n",
    "    \n",
    "    final_set_of_urls = set(list1)\n",
    "    return list(final_set_of_urls)\n",
    "\n",
    "def retrieve_and_process_member_urls(df1, index=52):\n",
    "    group_url = df1.loc[index, 'FACEBOOK ID']\n",
    "    group_name = df1.loc[index, 'PAGES']\n",
    "    \n",
    "    # Set up the WebDriver\n",
    "    service = Service(r'chromedriver.exe')\n",
    "    driver = webdriver.Chrome(service=service)\n",
    "    \n",
    "    try:\n",
    "        # Step 1: Log in to Facebook\n",
    "        login_to_facebook(driver)\n",
    "        \n",
    "        # Step 2: Visit the group and get all member URLs\n",
    "        all_member_urls = visit_public_group_and_get_all_member_urls(driver, group_url)\n",
    "        \n",
    "        # Step 3: Process the URLs to get the final list of profile URLs\n",
    "        final_urls = process_member_urls(all_member_urls)\n",
    "        \n",
    "        # Step 4: Create a DataFrame with the required columns\n",
    "        result_df = pd.DataFrame({\n",
    "            'Group Name': [group_name] * len(final_urls),\n",
    "            'Member URL': final_urls\n",
    "        })\n",
    "        \n",
    "        return result_df\n",
    "    \n",
    "    finally:\n",
    "        driver.quit()\n",
    "\n",
    "# Assuming df1 is already defined and contains the necessary data\n",
    "result_df = retrieve_and_process_member_urls(df1, index=52)\n"
   ]
  },
  {
   "cell_type": "code",
   "execution_count": 64,
   "metadata": {},
   "outputs": [
    {
     "data": {
      "text/plain": [
       "SNO                                                            53\n",
       "PAGES                    PAKISTAN PROPERTY COUNCIL (0332-2638077)\n",
       "FACEBOOK ID      https://www.facebook.com/groups/807147959841449/\n",
       "NO OF MEMBERS             Public Â· 81 members Â· 10 posts a year\n",
       "REMARKS                                                       NaN\n",
       "Name: 52, dtype: object"
      ]
     },
     "execution_count": 64,
     "metadata": {},
     "output_type": "execute_result"
    }
   ],
   "source": [
    "df1.iloc[52]"
   ]
  },
  {
   "cell_type": "code",
   "execution_count": 63,
   "metadata": {},
   "outputs": [
    {
     "data": {
      "text/plain": [
       "Group Name             PAKISTAN PROPERTY COUNCIL (0332-2638077)\n",
       "Member URL    https://www.facebook.com/profile.php?id=100007...\n",
       "Name: 1, dtype: object"
      ]
     },
     "execution_count": 63,
     "metadata": {},
     "output_type": "execute_result"
    }
   ],
   "source": [
    "result_df.iloc[1]"
   ]
  },
  {
   "cell_type": "code",
   "execution_count": 60,
   "metadata": {},
   "outputs": [
    {
     "data": {
      "text/plain": [
       "(12, 2)"
      ]
     },
     "execution_count": 60,
     "metadata": {},
     "output_type": "execute_result"
    }
   ],
   "source": [
    "result_df.shape"
   ]
  },
  {
   "cell_type": "code",
   "execution_count": null,
   "metadata": {},
   "outputs": [],
   "source": [
    "# Check for duplicates in the 'Member URL' column\n",
    "duplicates = result_df['Member URL'].duplicated()\n",
    "\n",
    "# Display duplicate entries\n",
    "duplicate_entries = result_df[duplicates]\n",
    "\n",
    "# Print the number of duplicate entries and the duplicate URLs\n",
    "print(f\"Number of duplicate member URLs: {duplicates.sum()}\")\n",
    "print(duplicate_entries)"
   ]
  }
 ],
 "metadata": {
  "kernelspec": {
   "display_name": "Python 3",
   "language": "python",
   "name": "python3"
  },
  "language_info": {
   "codemirror_mode": {
    "name": "ipython",
    "version": 3
   },
   "file_extension": ".py",
   "mimetype": "text/x-python",
   "name": "python",
   "nbconvert_exporter": "python",
   "pygments_lexer": "ipython3",
   "version": "3.11.0"
  }
 },
 "nbformat": 4,
 "nbformat_minor": 2
}
