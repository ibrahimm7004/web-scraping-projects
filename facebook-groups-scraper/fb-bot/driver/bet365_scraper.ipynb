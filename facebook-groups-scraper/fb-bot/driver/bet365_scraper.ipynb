{
 "cells": [
  {
   "cell_type": "code",
   "execution_count": 1,
   "metadata": {},
   "outputs": [
    {
     "data": {
      "text/plain": [
       "<Response [403]>"
      ]
     },
     "execution_count": 1,
     "metadata": {},
     "output_type": "execute_result"
    }
   ],
   "source": [
    "import requests\n",
    "\n",
    "requests.get('https://www.bet365.com/?lng=1&rurl=livecasino.bet365.com#/AC/B1/C1/D8/E165699035/F3/I8/P30259/')"
   ]
  },
  {
   "cell_type": "code",
   "execution_count": 2,
   "metadata": {},
   "outputs": [
    {
     "name": "stdout",
     "output_type": "stream",
     "text": [
      "Request failed with status code 403\n"
     ]
    }
   ],
   "source": [
    "import requests\n",
    "from bs4 import BeautifulSoup\n",
    "\n",
    "# The target URL\n",
    "url = \"https://www.bet365.com/?lng=1&rurl=livecasino.bet365.com#/AC/B1/C1/D8/E165699035/F3/I8/P30259/\"\n",
    "\n",
    "# Create a session (this can help if you need to manage cookies or headers)\n",
    "session = requests.Session()\n",
    "\n",
    "# Set headers to mimic a regular browser (sometimes necessary)\n",
    "headers = {\n",
    "    \"User-Agent\": (\"Mozilla/5.0 (Windows NT 10.0; Win64; x64) \"\n",
    "                   \"AppleWebKit/537.36 (KHTML, like Gecko) \"\n",
    "                   \"Chrome/115.0.0.0 Safari/537.36\")\n",
    "}\n",
    "\n",
    "# Send GET request\n",
    "response = session.get(url, headers=headers)\n",
    "\n",
    "# Check the response\n",
    "if response.status_code == 200:\n",
    "    # Parse the raw HTML with BeautifulSoup\n",
    "    soup = BeautifulSoup(response.text, \"html.parser\")\n",
    "    \n",
    "    # Print the title or other elements to see what we got\n",
    "    title = soup.find(\"title\")\n",
    "    if title:\n",
    "        print(\"Page Title:\", title.get_text())\n",
    "    else:\n",
    "        print(\"No title found. The page may be mostly JavaScript-driven.\")\n",
    "\n",
    "    # Example of looking for meta tags\n",
    "    metas = soup.find_all('meta')\n",
    "    for meta in metas:\n",
    "        print(meta)\n",
    "\n",
    "    # Since the page is dynamic, you likely won't see much useful data here.\n",
    "    # You may need to investigate the network calls the page makes (e.g., via browser DevTools)\n",
    "    # and try to mimic those requests to get data in JSON form.\n",
    "else:\n",
    "    print(f\"Request failed with status code {response.status_code}\")"
   ]
  },
  {
   "cell_type": "code",
   "execution_count": null,
   "metadata": {},
   "outputs": [],
   "source": []
  }
 ],
 "metadata": {
  "kernelspec": {
   "display_name": "Python 3",
   "language": "python",
   "name": "python3"
  },
  "language_info": {
   "codemirror_mode": {
    "name": "ipython",
    "version": 3
   },
   "file_extension": ".py",
   "mimetype": "text/x-python",
   "name": "python",
   "nbconvert_exporter": "python",
   "pygments_lexer": "ipython3",
   "version": "3.11.0"
  }
 },
 "nbformat": 4,
 "nbformat_minor": 2
}
