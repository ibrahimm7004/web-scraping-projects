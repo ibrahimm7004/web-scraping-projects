{
 "cells": [
  {
   "cell_type": "code",
   "execution_count": 3,
   "metadata": {},
   "outputs": [],
   "source": [
    "import os\n",
    "import concurrent.futures\n",
    "import time\n",
    "import pandas as pd\n",
    "from selenium import webdriver\n",
    "from selenium.webdriver.common.by import By\n",
    "from selenium.webdriver.support.ui import WebDriverWait\n",
    "from selenium.webdriver.support import expected_conditions as EC\n",
    "from dotenv import load_dotenv"
   ]
  },
  {
   "cell_type": "code",
   "execution_count": 4,
   "metadata": {},
   "outputs": [],
   "source": [
    "df = pd.read_csv(r\"C:\\Users\\hp\\Desktop\\freelance\\fb_revit_scraper\\fb_bot\\fb_group_members.csv\")"
   ]
  },
  {
   "cell_type": "code",
   "execution_count": 5,
   "metadata": {},
   "outputs": [],
   "source": [
    "load_dotenv()\n",
    "FB_EMAIL = os.getenv('FB_EMAIL')\n",
    "FB_PASSWORD = os.getenv('FB_PASSWORD')"
   ]
  },
  {
   "cell_type": "code",
   "execution_count": null,
   "metadata": {},
   "outputs": [],
   "source": [
    "df.shape"
   ]
  },
  {
   "cell_type": "code",
   "execution_count": null,
   "metadata": {},
   "outputs": [],
   "source": [
    "import pandas as pd\n",
    "from selenium import webdriver\n",
    "from selenium.webdriver.common.by import By\n",
    "from selenium.webdriver.support.ui import WebDriverWait\n",
    "from selenium.webdriver.support import expected_conditions as EC\n",
    "import os\n",
    "from dotenv import load_dotenv\n",
    "\n",
    "df = pd.read_csv(r\"C:\\Users\\hp\\Desktop\\freelance\\fb_revit_scraper\\fb_bot\\fb_group_members.csv\")\n",
    "load_dotenv()\n",
    "FB_EMAIL = os.getenv('FB_EMAIL')\n",
    "FB_PASSWORD = os.getenv('FB_PASSWORD')\n",
    "\n",
    "def wait_for_element_presence(driver, xpath, wait_secs=60, by=By.XPATH):\n",
    "    try:\n",
    "        WebDriverWait(driver, wait_secs).until(\n",
    "            EC.presence_of_element_located((by, xpath))\n",
    "        )\n",
    "    except Exception as e:\n",
    "        print(f\"wait_for_element_presence Failed {e} XPath :: {xpath}\")\n",
    "\n",
    "def login_to_facebook(driver):\n",
    "    driver.get('https://www.facebook.com/login')\n",
    "    wait_after_navigate = '//div[@class=\"login_form_container\"]'\n",
    "    wait_for_element_presence(driver, wait_after_navigate)\n",
    "    driver.find_element(By.ID, \"email\").send_keys(FB_EMAIL)\n",
    "    driver.find_element(By.ID, \"pass\").send_keys(FB_PASSWORD)\n",
    "    driver.find_element(By.NAME, \"login\").click()\n",
    "    wait_after_login = '//div[@role=\"banner\"]//div[@aria-label=\"Facebook\" and @role=\"navigation\"]'\n",
    "    wait_for_element_presence(driver, wait_after_login)\n",
    "    print(\"Logged in to Facebook.\")\n",
    "\n",
    "def check_if_message_option_exists(driver, url):\n",
    "    driver.get(url)\n",
    "    try:\n",
    "        message_button = WebDriverWait(driver, 10).until(\n",
    "            EC.presence_of_element_located((By.XPATH, '//span[text()=\"Message\"]'))\n",
    "        )\n",
    "        return True\n",
    "    except:\n",
    "        return False\n",
    "\n",
    "def filter_members_with_message_option(df):\n",
    "    driver = webdriver.Chrome()\n",
    "    login_to_facebook(driver)\n",
    "    \n",
    "    count = 0\n",
    "    for index, row in df.iterrows():\n",
    "        profile_url = row['Member URL']\n",
    "        if not check_if_message_option_exists(driver, profile_url):\n",
    "            print(f\"Dropped {profile_url}\")\n",
    "            df.drop(index, inplace=True)\n",
    "\n",
    "        count += 1\n",
    "        \n",
    "        # Print progress every 50 profiles\n",
    "        if count % 50 == 0:\n",
    "            print(f\"Processed {count} profiles...\")\n",
    "\n",
    "        if count % 100 == 0:\n",
    "            df.to_csv(r\"C:\\Users\\hp\\Desktop\\freelance\\fb_revit_scraper\\fb_bot\\fb_group_members.csv\", index=False)\n",
    "            print(f\"Updated CSV after processing {count} profiles.\")\n",
    "\n",
    "    df.to_csv(r\"C:\\Users\\hp\\Desktop\\freelance\\fb_revit_scraper\\fb_bot\\fb_group_members.csv\", index=False)\n",
    "    print(\"Final CSV update completed.\")\n",
    "    \n",
    "    driver.quit()\n",
    "    return df\n",
    "\n",
    "filtered_df = filter_members_with_message_option(df)"
   ]
  }
 ],
 "metadata": {
  "kernelspec": {
   "display_name": "Python 3",
   "language": "python",
   "name": "python3"
  },
  "language_info": {
   "codemirror_mode": {
    "name": "ipython",
    "version": 3
   },
   "file_extension": ".py",
   "mimetype": "text/x-python",
   "name": "python",
   "nbconvert_exporter": "python",
   "pygments_lexer": "ipython3",
   "version": "3.11.0"
  }
 },
 "nbformat": 4,
 "nbformat_minor": 2
}
