{
 "cells": [
  {
   "cell_type": "code",
   "execution_count": null,
   "metadata": {},
   "outputs": [],
   "source": [
    "import requests\n",
    "from bs4 import BeautifulSoup\n",
    "\n",
    "# The target URL\n",
    "url = \"https://www.bet365.com/?lng=1&rurl=livecasino.bet365.com#/AC/B1/C1/D8/E165699035/F3/I8/P30259/\"\n",
    "\n",
    "# Create a session (this can help if you need to manage cookies or headers)\n",
    "session = requests.Session()\n",
    "\n",
    "# Set headers to mimic a regular browser (sometimes necessary)\n",
    "headers = {\n",
    "    \"User-Agent\": (\"Mozilla/5.0 (Windows NT 10.0; Win64; x64) \"\n",
    "                   \"AppleWebKit/537.36 (KHTML, like Gecko) \"\n",
    "                   \"Chrome/115.0.0.0 Safari/537.36\")\n",
    "}\n",
    "\n",
    "# Send GET request\n",
    "response = session.get(url, headers=headers)\n",
    "\n",
    "# Check the response\n",
    "if response.status_code == 200:\n",
    "    # Parse the raw HTML with BeautifulSoup\n",
    "    soup = BeautifulSoup(response.text, \"html.parser\")\n",
    "    \n",
    "    # Print the title or other elements to see what we got\n",
    "    title = soup.find(\"title\")\n",
    "    if title:\n",
    "        print(\"Page Title:\", title.get_text())\n",
    "    else:\n",
    "        print(\"No title found. The page may be mostly JavaScript-driven.\")\n",
    "\n",
    "    # Example of looking for meta tags\n",
    "    metas = soup.find_all('meta')\n",
    "    for meta in metas:\n",
    "        print(meta)\n",
    "\n",
    "    # Since the page is dynamic, you likely won't see much useful data here.\n",
    "    # You may need to investigate the network calls the page makes (e.g., via browser DevTools)\n",
    "    # and try to mimic those requests to get data in JSON form.\n",
    "else:\n",
    "    print(f\"Request failed with status code {response.status_code}\")\n"
   ]
  }
 ],
 "metadata": {
  "language_info": {
   "name": "python"
  }
 },
 "nbformat": 4,
 "nbformat_minor": 2
}
